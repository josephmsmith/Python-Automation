{
 "cells": [
  {
   "cell_type": "markdown",
   "id": "fc8f7310-f321-402e-bb30-9496246fe1ce",
   "metadata": {},
   "source": [
    "# Explortatory Data Analysis with Jupyter Lab\n",
    "Important to note that every data set is different and the actions you take differ greatly. Use this as a starting point. "
   ]
  },
  {
   "cell_type": "markdown",
   "id": "79d19a0e-9793-47d7-89b4-9a4c37f8eea3",
   "metadata": {},
   "source": [
    "### 1. Imports\n",
    "pandas for data manipulation and analysis numpy for numerical operations. matplotlib for data visualization. \n",
    "seaborn for advanced data visualization"
   ]
  },
  {
   "cell_type": "code",
   "execution_count": 2,
   "id": "c8698a73-742d-4669-8b09-02e340e69d13",
   "metadata": {},
   "outputs": [],
   "source": [
    "import pandas as pd\n",
    "import numpy as np\n",
    "import matplotlib.pyplot as plt\n",
    "import seaborn as sns"
   ]
  },
  {
   "cell_type": "markdown",
   "id": "ac8ffa4c-cdd3-44a5-9675-8d48571fbbde",
   "metadata": {},
   "source": [
    "### 2. Read in your files, save as Dataframe\n",
    "Excel file: pd.read_excel('filename.xlsx')\n",
    "JSON file: pd.read_json('filename.json')\n",
    "SQL database: pd.read_sql('SELECT * FROM tablename', connection)\n",
    "Text file (e.g., TXT, log): pd.read_csv('filename.txt', delimiter='\\t')"
   ]
  },
  {
   "cell_type": "code",
   "execution_count": 4,
   "id": "40ca163f-3962-4f11-bc4b-11b60444d83f",
   "metadata": {},
   "outputs": [],
   "source": [
    "df = pd.read_csv('Analyses/rotten_tomatoes_analysis/rotten_tomatoes_movie_reviews.csv')"
   ]
  },
  {
   "cell_type": "markdown",
   "id": "8cb5e6dc-2d9a-48b8-818a-f9bfe83ddfc0",
   "metadata": {},
   "source": [
    "### 3. Check the dimensions, familiarize yourself with data"
   ]
  },
  {
   "cell_type": "code",
   "execution_count": 6,
   "id": "4583d14a-20b1-4d7d-89cd-813bb238e1eb",
   "metadata": {},
   "outputs": [
    {
     "data": {
      "text/plain": [
       "(1444963, 11)"
      ]
     },
     "execution_count": 6,
     "metadata": {},
     "output_type": "execute_result"
    }
   ],
   "source": [
    "df.shape"
   ]
  },
  {
   "cell_type": "code",
   "execution_count": 9,
   "id": "661ccb33-b1de-490e-b0df-5f79196da76d",
   "metadata": {},
   "outputs": [
    {
     "data": {
      "text/plain": [
       "11"
      ]
     },
     "execution_count": 9,
     "metadata": {},
     "output_type": "execute_result"
    }
   ],
   "source": [
    "# Check the shape individually if needed\n",
    "df.shape[1]"
   ]
  },
  {
   "cell_type": "code",
   "execution_count": 31,
   "id": "34b587c6-2993-442b-bec2-900597a00ff0",
   "metadata": {},
   "outputs": [
    {
     "data": {
      "text/html": [
       "<div>\n",
       "<style scoped>\n",
       "    .dataframe tbody tr th:only-of-type {\n",
       "        vertical-align: middle;\n",
       "    }\n",
       "\n",
       "    .dataframe tbody tr th {\n",
       "        vertical-align: top;\n",
       "    }\n",
       "\n",
       "    .dataframe thead th {\n",
       "        text-align: right;\n",
       "    }\n",
       "</style>\n",
       "<table border=\"1\" class=\"dataframe\">\n",
       "  <thead>\n",
       "    <tr style=\"text-align: right;\">\n",
       "      <th></th>\n",
       "      <th>id</th>\n",
       "      <th>reviewId</th>\n",
       "      <th>creationDate</th>\n",
       "      <th>criticName</th>\n",
       "      <th>isTopCritic</th>\n",
       "      <th>originalScore</th>\n",
       "      <th>reviewState</th>\n",
       "      <th>publicatioName</th>\n",
       "      <th>reviewText</th>\n",
       "      <th>scoreSentiment</th>\n",
       "      <th>reviewUrl</th>\n",
       "    </tr>\n",
       "  </thead>\n",
       "  <tbody>\n",
       "    <tr>\n",
       "      <th>0</th>\n",
       "      <td>beavers</td>\n",
       "      <td>1145982</td>\n",
       "      <td>2003-05-23</td>\n",
       "      <td>Ivan M. Lincoln</td>\n",
       "      <td>False</td>\n",
       "      <td>3.5/4</td>\n",
       "      <td>fresh</td>\n",
       "      <td>Deseret News (Salt Lake City)</td>\n",
       "      <td>Timed to be just long enough for most youngste...</td>\n",
       "      <td>POSITIVE</td>\n",
       "      <td>http://www.deseretnews.com/article/700003233/B...</td>\n",
       "    </tr>\n",
       "    <tr>\n",
       "      <th>1</th>\n",
       "      <td>blood_mask</td>\n",
       "      <td>1636744</td>\n",
       "      <td>2007-06-02</td>\n",
       "      <td>The Foywonder</td>\n",
       "      <td>False</td>\n",
       "      <td>1/5</td>\n",
       "      <td>rotten</td>\n",
       "      <td>Dread Central</td>\n",
       "      <td>It doesn't matter if a movie costs 300 million...</td>\n",
       "      <td>NEGATIVE</td>\n",
       "      <td>http://www.dreadcentral.com/index.php?name=Rev...</td>\n",
       "    </tr>\n",
       "    <tr>\n",
       "      <th>2</th>\n",
       "      <td>city_hunter_shinjuku_private_eyes</td>\n",
       "      <td>2590987</td>\n",
       "      <td>2019-05-28</td>\n",
       "      <td>Reuben Baron</td>\n",
       "      <td>False</td>\n",
       "      <td>NaN</td>\n",
       "      <td>fresh</td>\n",
       "      <td>CBR</td>\n",
       "      <td>The choreography is so precise and lifelike at...</td>\n",
       "      <td>POSITIVE</td>\n",
       "      <td>https://www.cbr.com/city-hunter-shinjuku-priva...</td>\n",
       "    </tr>\n",
       "    <tr>\n",
       "      <th>3</th>\n",
       "      <td>city_hunter_shinjuku_private_eyes</td>\n",
       "      <td>2558908</td>\n",
       "      <td>2019-02-14</td>\n",
       "      <td>Matt Schley</td>\n",
       "      <td>False</td>\n",
       "      <td>2.5/5</td>\n",
       "      <td>rotten</td>\n",
       "      <td>Japan Times</td>\n",
       "      <td>The film's out-of-touch attempts at humor may ...</td>\n",
       "      <td>NEGATIVE</td>\n",
       "      <td>https://www.japantimes.co.jp/culture/2019/02/0...</td>\n",
       "    </tr>\n",
       "    <tr>\n",
       "      <th>4</th>\n",
       "      <td>dangerous_men_2015</td>\n",
       "      <td>2504681</td>\n",
       "      <td>2018-08-29</td>\n",
       "      <td>Pat Padua</td>\n",
       "      <td>False</td>\n",
       "      <td>NaN</td>\n",
       "      <td>fresh</td>\n",
       "      <td>DCist</td>\n",
       "      <td>Its clumsy determination is endearing and some...</td>\n",
       "      <td>POSITIVE</td>\n",
       "      <td>http://dcist.com/2015/11/out_of_frame_dangerou...</td>\n",
       "    </tr>\n",
       "  </tbody>\n",
       "</table>\n",
       "</div>"
      ],
      "text/plain": [
       "                                  id  reviewId creationDate       criticName  \\\n",
       "0                            beavers   1145982   2003-05-23  Ivan M. Lincoln   \n",
       "1                         blood_mask   1636744   2007-06-02    The Foywonder   \n",
       "2  city_hunter_shinjuku_private_eyes   2590987   2019-05-28     Reuben Baron   \n",
       "3  city_hunter_shinjuku_private_eyes   2558908   2019-02-14      Matt Schley   \n",
       "4                 dangerous_men_2015   2504681   2018-08-29        Pat Padua   \n",
       "\n",
       "   isTopCritic originalScore reviewState                 publicatioName  \\\n",
       "0        False         3.5/4       fresh  Deseret News (Salt Lake City)   \n",
       "1        False           1/5      rotten                  Dread Central   \n",
       "2        False           NaN       fresh                            CBR   \n",
       "3        False         2.5/5      rotten                    Japan Times   \n",
       "4        False           NaN       fresh                          DCist   \n",
       "\n",
       "                                          reviewText scoreSentiment  \\\n",
       "0  Timed to be just long enough for most youngste...       POSITIVE   \n",
       "1  It doesn't matter if a movie costs 300 million...       NEGATIVE   \n",
       "2  The choreography is so precise and lifelike at...       POSITIVE   \n",
       "3  The film's out-of-touch attempts at humor may ...       NEGATIVE   \n",
       "4  Its clumsy determination is endearing and some...       POSITIVE   \n",
       "\n",
       "                                           reviewUrl  \n",
       "0  http://www.deseretnews.com/article/700003233/B...  \n",
       "1  http://www.dreadcentral.com/index.php?name=Rev...  \n",
       "2  https://www.cbr.com/city-hunter-shinjuku-priva...  \n",
       "3  https://www.japantimes.co.jp/culture/2019/02/0...  \n",
       "4  http://dcist.com/2015/11/out_of_frame_dangerou...  "
      ]
     },
     "execution_count": 31,
     "metadata": {},
     "output_type": "execute_result"
    }
   ],
   "source": [
    "df.head(5)"
   ]
  },
  {
   "cell_type": "markdown",
   "id": "36e8d4d3-4c30-481d-bdcf-d2d406eacaf1",
   "metadata": {},
   "source": [
    "### 4. Check the data types"
   ]
  },
  {
   "cell_type": "code",
   "execution_count": 13,
   "id": "c847265e-b89a-4fff-b90f-2990b00f4dc3",
   "metadata": {
    "scrolled": true,
    "tags": []
   },
   "outputs": [
    {
     "data": {
      "text/plain": [
       "id                object\n",
       "reviewId           int64\n",
       "creationDate      object\n",
       "criticName        object\n",
       "isTopCritic         bool\n",
       "originalScore     object\n",
       "reviewState       object\n",
       "publicatioName    object\n",
       "reviewText        object\n",
       "scoreSentiment    object\n",
       "reviewUrl         object\n",
       "dtype: object"
      ]
     },
     "execution_count": 13,
     "metadata": {},
     "output_type": "execute_result"
    }
   ],
   "source": [
    "df.dtypes"
   ]
  },
  {
   "cell_type": "code",
   "execution_count": 14,
   "id": "bc499b31-026f-4e31-93fc-239b0b91775b",
   "metadata": {
    "scrolled": true,
    "tags": []
   },
   "outputs": [
    {
     "name": "stdout",
     "output_type": "stream",
     "text": [
      "<class 'pandas.core.frame.DataFrame'>\n",
      "RangeIndex: 1444963 entries, 0 to 1444962\n",
      "Data columns (total 11 columns):\n",
      " #   Column          Non-Null Count    Dtype \n",
      "---  ------          --------------    ----- \n",
      " 0   id              1444963 non-null  object\n",
      " 1   reviewId        1444963 non-null  int64 \n",
      " 2   creationDate    1444963 non-null  object\n",
      " 3   criticName      1444963 non-null  object\n",
      " 4   isTopCritic     1444963 non-null  bool  \n",
      " 5   originalScore   1009745 non-null  object\n",
      " 6   reviewState     1444963 non-null  object\n",
      " 7   publicatioName  1444963 non-null  object\n",
      " 8   reviewText      1375738 non-null  object\n",
      " 9   scoreSentiment  1444963 non-null  object\n",
      " 10  reviewUrl       1234038 non-null  object\n",
      "dtypes: bool(1), int64(1), object(9)\n",
      "memory usage: 111.6+ MB\n"
     ]
    }
   ],
   "source": [
    "df.info()"
   ]
  },
  {
   "cell_type": "code",
   "execution_count": 15,
   "id": "855d56c4-3b0d-4230-ae18-e631a8326c06",
   "metadata": {
    "collapsed": true,
    "jupyter": {
     "outputs_hidden": true
    },
    "tags": []
   },
   "outputs": [
    {
     "data": {
      "text/html": [
       "<div>\n",
       "<style scoped>\n",
       "    .dataframe tbody tr th:only-of-type {\n",
       "        vertical-align: middle;\n",
       "    }\n",
       "\n",
       "    .dataframe tbody tr th {\n",
       "        vertical-align: top;\n",
       "    }\n",
       "\n",
       "    .dataframe thead th {\n",
       "        text-align: right;\n",
       "    }\n",
       "</style>\n",
       "<table border=\"1\" class=\"dataframe\">\n",
       "  <thead>\n",
       "    <tr style=\"text-align: right;\">\n",
       "      <th></th>\n",
       "      <th>id</th>\n",
       "      <th>reviewId</th>\n",
       "      <th>creationDate</th>\n",
       "      <th>criticName</th>\n",
       "      <th>isTopCritic</th>\n",
       "      <th>originalScore</th>\n",
       "      <th>reviewState</th>\n",
       "      <th>publicatioName</th>\n",
       "      <th>reviewText</th>\n",
       "      <th>scoreSentiment</th>\n",
       "      <th>reviewUrl</th>\n",
       "    </tr>\n",
       "  </thead>\n",
       "  <tbody>\n",
       "    <tr>\n",
       "      <th>0</th>\n",
       "      <td>beavers</td>\n",
       "      <td>1145982</td>\n",
       "      <td>2003-05-23</td>\n",
       "      <td>Ivan M. Lincoln</td>\n",
       "      <td>False</td>\n",
       "      <td>3.5/4</td>\n",
       "      <td>fresh</td>\n",
       "      <td>Deseret News (Salt Lake City)</td>\n",
       "      <td>Timed to be just long enough for most youngste...</td>\n",
       "      <td>POSITIVE</td>\n",
       "      <td>http://www.deseretnews.com/article/700003233/B...</td>\n",
       "    </tr>\n",
       "    <tr>\n",
       "      <th>1</th>\n",
       "      <td>blood_mask</td>\n",
       "      <td>1636744</td>\n",
       "      <td>2007-06-02</td>\n",
       "      <td>The Foywonder</td>\n",
       "      <td>False</td>\n",
       "      <td>1/5</td>\n",
       "      <td>rotten</td>\n",
       "      <td>Dread Central</td>\n",
       "      <td>It doesn't matter if a movie costs 300 million...</td>\n",
       "      <td>NEGATIVE</td>\n",
       "      <td>http://www.dreadcentral.com/index.php?name=Rev...</td>\n",
       "    </tr>\n",
       "    <tr>\n",
       "      <th>2</th>\n",
       "      <td>city_hunter_shinjuku_private_eyes</td>\n",
       "      <td>2590987</td>\n",
       "      <td>2019-05-28</td>\n",
       "      <td>Reuben Baron</td>\n",
       "      <td>False</td>\n",
       "      <td>&lt;NA&gt;</td>\n",
       "      <td>fresh</td>\n",
       "      <td>CBR</td>\n",
       "      <td>The choreography is so precise and lifelike at...</td>\n",
       "      <td>POSITIVE</td>\n",
       "      <td>https://www.cbr.com/city-hunter-shinjuku-priva...</td>\n",
       "    </tr>\n",
       "    <tr>\n",
       "      <th>3</th>\n",
       "      <td>city_hunter_shinjuku_private_eyes</td>\n",
       "      <td>2558908</td>\n",
       "      <td>2019-02-14</td>\n",
       "      <td>Matt Schley</td>\n",
       "      <td>False</td>\n",
       "      <td>2.5/5</td>\n",
       "      <td>rotten</td>\n",
       "      <td>Japan Times</td>\n",
       "      <td>The film's out-of-touch attempts at humor may ...</td>\n",
       "      <td>NEGATIVE</td>\n",
       "      <td>https://www.japantimes.co.jp/culture/2019/02/0...</td>\n",
       "    </tr>\n",
       "    <tr>\n",
       "      <th>4</th>\n",
       "      <td>dangerous_men_2015</td>\n",
       "      <td>2504681</td>\n",
       "      <td>2018-08-29</td>\n",
       "      <td>Pat Padua</td>\n",
       "      <td>False</td>\n",
       "      <td>&lt;NA&gt;</td>\n",
       "      <td>fresh</td>\n",
       "      <td>DCist</td>\n",
       "      <td>Its clumsy determination is endearing and some...</td>\n",
       "      <td>POSITIVE</td>\n",
       "      <td>http://dcist.com/2015/11/out_of_frame_dangerou...</td>\n",
       "    </tr>\n",
       "    <tr>\n",
       "      <th>...</th>\n",
       "      <td>...</td>\n",
       "      <td>...</td>\n",
       "      <td>...</td>\n",
       "      <td>...</td>\n",
       "      <td>...</td>\n",
       "      <td>...</td>\n",
       "      <td>...</td>\n",
       "      <td>...</td>\n",
       "      <td>...</td>\n",
       "      <td>...</td>\n",
       "      <td>...</td>\n",
       "    </tr>\n",
       "    <tr>\n",
       "      <th>1444958</th>\n",
       "      <td>thor_love_and_thunder</td>\n",
       "      <td>102706151</td>\n",
       "      <td>2022-07-05</td>\n",
       "      <td>Christie Cronan</td>\n",
       "      <td>False</td>\n",
       "      <td>7/10</td>\n",
       "      <td>fresh</td>\n",
       "      <td>Raising Whasians</td>\n",
       "      <td>Solid but not totally sold&amp;#44; Thor&amp;#58; Ragn...</td>\n",
       "      <td>POSITIVE</td>\n",
       "      <td>https://raisingwhasians.com/thor-love-and-thun...</td>\n",
       "    </tr>\n",
       "    <tr>\n",
       "      <th>1444959</th>\n",
       "      <td>thor_love_and_thunder</td>\n",
       "      <td>102706150</td>\n",
       "      <td>2022-07-05</td>\n",
       "      <td>Ian Sandwell</td>\n",
       "      <td>False</td>\n",
       "      <td>4/5</td>\n",
       "      <td>fresh</td>\n",
       "      <td>Digital Spy</td>\n",
       "      <td>Thor&amp;#58; Love and Thunder is the most enterta...</td>\n",
       "      <td>POSITIVE</td>\n",
       "      <td>https://www.digitalspy.com/movies/a40496050/th...</td>\n",
       "    </tr>\n",
       "    <tr>\n",
       "      <th>1444960</th>\n",
       "      <td>thor_love_and_thunder</td>\n",
       "      <td>102706149</td>\n",
       "      <td>2022-07-05</td>\n",
       "      <td>Lauren LaMagna</td>\n",
       "      <td>False</td>\n",
       "      <td>8/10</td>\n",
       "      <td>fresh</td>\n",
       "      <td>Next Best Picture</td>\n",
       "      <td>&amp;quot;Thor&amp;#58; Love and Thunder&amp;quot; is a st...</td>\n",
       "      <td>POSITIVE</td>\n",
       "      <td>https://www.nextbestpicture.com/thor-love-and-...</td>\n",
       "    </tr>\n",
       "    <tr>\n",
       "      <th>1444961</th>\n",
       "      <td>thor_love_and_thunder</td>\n",
       "      <td>102706148</td>\n",
       "      <td>2022-07-05</td>\n",
       "      <td>Jake Cole</td>\n",
       "      <td>True</td>\n",
       "      <td>1/4</td>\n",
       "      <td>rotten</td>\n",
       "      <td>Slant Magazine</td>\n",
       "      <td>Across Taika Waititi&amp;#8217;s film&amp;#44; a war a...</td>\n",
       "      <td>NEGATIVE</td>\n",
       "      <td>https://www.slantmagazine.com/film/thor-love-a...</td>\n",
       "    </tr>\n",
       "    <tr>\n",
       "      <th>1444962</th>\n",
       "      <td>thor_love_and_thunder</td>\n",
       "      <td>102706147</td>\n",
       "      <td>2022-07-05</td>\n",
       "      <td>Roger Moore</td>\n",
       "      <td>False</td>\n",
       "      <td>2.5/4</td>\n",
       "      <td>fresh</td>\n",
       "      <td>Movie Nation</td>\n",
       "      <td>It&amp;#8217;s the jokes that make it&amp;#44; with th...</td>\n",
       "      <td>POSITIVE</td>\n",
       "      <td>https://rogersmovienation.com/2022/07/05/movie...</td>\n",
       "    </tr>\n",
       "  </tbody>\n",
       "</table>\n",
       "<p>1444963 rows × 11 columns</p>\n",
       "</div>"
      ],
      "text/plain": [
       "                                        id   reviewId creationDate  \\\n",
       "0                                  beavers    1145982   2003-05-23   \n",
       "1                               blood_mask    1636744   2007-06-02   \n",
       "2        city_hunter_shinjuku_private_eyes    2590987   2019-05-28   \n",
       "3        city_hunter_shinjuku_private_eyes    2558908   2019-02-14   \n",
       "4                       dangerous_men_2015    2504681   2018-08-29   \n",
       "...                                    ...        ...          ...   \n",
       "1444958              thor_love_and_thunder  102706151   2022-07-05   \n",
       "1444959              thor_love_and_thunder  102706150   2022-07-05   \n",
       "1444960              thor_love_and_thunder  102706149   2022-07-05   \n",
       "1444961              thor_love_and_thunder  102706148   2022-07-05   \n",
       "1444962              thor_love_and_thunder  102706147   2022-07-05   \n",
       "\n",
       "              criticName  isTopCritic originalScore reviewState  \\\n",
       "0        Ivan M. Lincoln        False         3.5/4       fresh   \n",
       "1          The Foywonder        False           1/5      rotten   \n",
       "2           Reuben Baron        False          <NA>       fresh   \n",
       "3            Matt Schley        False         2.5/5      rotten   \n",
       "4              Pat Padua        False          <NA>       fresh   \n",
       "...                  ...          ...           ...         ...   \n",
       "1444958  Christie Cronan        False          7/10       fresh   \n",
       "1444959     Ian Sandwell        False           4/5       fresh   \n",
       "1444960   Lauren LaMagna        False          8/10       fresh   \n",
       "1444961        Jake Cole         True           1/4      rotten   \n",
       "1444962      Roger Moore        False         2.5/4       fresh   \n",
       "\n",
       "                        publicatioName  \\\n",
       "0        Deseret News (Salt Lake City)   \n",
       "1                        Dread Central   \n",
       "2                                  CBR   \n",
       "3                          Japan Times   \n",
       "4                                DCist   \n",
       "...                                ...   \n",
       "1444958               Raising Whasians   \n",
       "1444959                    Digital Spy   \n",
       "1444960              Next Best Picture   \n",
       "1444961                 Slant Magazine   \n",
       "1444962                   Movie Nation   \n",
       "\n",
       "                                                reviewText scoreSentiment  \\\n",
       "0        Timed to be just long enough for most youngste...       POSITIVE   \n",
       "1        It doesn't matter if a movie costs 300 million...       NEGATIVE   \n",
       "2        The choreography is so precise and lifelike at...       POSITIVE   \n",
       "3        The film's out-of-touch attempts at humor may ...       NEGATIVE   \n",
       "4        Its clumsy determination is endearing and some...       POSITIVE   \n",
       "...                                                    ...            ...   \n",
       "1444958  Solid but not totally sold&#44; Thor&#58; Ragn...       POSITIVE   \n",
       "1444959  Thor&#58; Love and Thunder is the most enterta...       POSITIVE   \n",
       "1444960  &quot;Thor&#58; Love and Thunder&quot; is a st...       POSITIVE   \n",
       "1444961  Across Taika Waititi&#8217;s film&#44; a war a...       NEGATIVE   \n",
       "1444962  It&#8217;s the jokes that make it&#44; with th...       POSITIVE   \n",
       "\n",
       "                                                 reviewUrl  \n",
       "0        http://www.deseretnews.com/article/700003233/B...  \n",
       "1        http://www.dreadcentral.com/index.php?name=Rev...  \n",
       "2        https://www.cbr.com/city-hunter-shinjuku-priva...  \n",
       "3        https://www.japantimes.co.jp/culture/2019/02/0...  \n",
       "4        http://dcist.com/2015/11/out_of_frame_dangerou...  \n",
       "...                                                    ...  \n",
       "1444958  https://raisingwhasians.com/thor-love-and-thun...  \n",
       "1444959  https://www.digitalspy.com/movies/a40496050/th...  \n",
       "1444960  https://www.nextbestpicture.com/thor-love-and-...  \n",
       "1444961  https://www.slantmagazine.com/film/thor-love-a...  \n",
       "1444962  https://rogersmovienation.com/2022/07/05/movie...  \n",
       "\n",
       "[1444963 rows x 11 columns]"
      ]
     },
     "execution_count": 15,
     "metadata": {},
     "output_type": "execute_result"
    }
   ],
   "source": [
    "# Optional. Pandas will convert the data types of columns to the best possible data type based on their content.\n",
    "df.convert_dtypes()"
   ]
  },
  {
   "cell_type": "markdown",
   "id": "1225611c-1035-40bb-91b3-7d4ff8b38ea1",
   "metadata": {},
   "source": [
    "### 5. Check for missing values and decide how to handle them\n",
    "Drop missing values: You can remove rows or columns that contain missing values using the dropna() method. However, this strategy may result in a loss of information and may not be feasible if the missing values are present in a large proportion of the dataset.\n",
    "\n",
    "Impute missing values: You can replace missing values with some estimate of what the missing value could be based on the available data. There are several methods for imputing missing values, such as mean imputation, median imputation, mode imputation, and regression imputation. The fillna() method in pandas can be used for imputing missing values.\n",
    "\n",
    "Treat missing values as a separate category: In some cases, missing values may have some underlying meaning or significance. You can treat missing values as a separate category and include them in the analysis as a distinct group.\n",
    "\n",
    "Use algorithms that handle missing values: Some machine learning algorithms can handle missing values internally, such as decision trees and random forests. In these cases, you can leave the missing values as they are and let the algorithm handle them."
   ]
  },
  {
   "cell_type": "code",
   "execution_count": 20,
   "id": "14fe49f7-2eab-4ad8-af2b-aee3d83bbd6c",
   "metadata": {
    "scrolled": true,
    "tags": []
   },
   "outputs": [
    {
     "name": "stdout",
     "output_type": "stream",
     "text": [
      "id                     0\n",
      "reviewId               0\n",
      "creationDate           0\n",
      "criticName             0\n",
      "isTopCritic            0\n",
      "originalScore     435218\n",
      "reviewState            0\n",
      "publicatioName         0\n",
      "reviewText         69225\n",
      "scoreSentiment         0\n",
      "reviewUrl         210925\n",
      "dtype: int64\n"
     ]
    }
   ],
   "source": [
    "print(df.isna().sum())"
   ]
  },
  {
   "cell_type": "code",
   "execution_count": 24,
   "id": "7938d0ff-92af-4cdf-8d1b-fd8d4487e973",
   "metadata": {
    "scrolled": true,
    "tags": []
   },
   "outputs": [
    {
     "name": "stdout",
     "output_type": "stream",
     "text": [
      "                Missing Values  % of Total Values\n",
      "id                           0           0.000000\n",
      "reviewId                     0           0.000000\n",
      "creationDate                 0           0.000000\n",
      "criticName                   0           0.000000\n",
      "isTopCritic                  0           0.000000\n",
      "originalScore           435218          30.119664\n",
      "reviewState                  0           0.000000\n",
      "publicatioName               0           0.000000\n",
      "reviewText               69225           4.790780\n",
      "scoreSentiment               0           0.000000\n",
      "reviewUrl               210925          14.597260\n"
     ]
    }
   ],
   "source": [
    "# calculate the number of missing values for each column\n",
    "missing_values = df.isna().sum()\n",
    "\n",
    "# calculate the percentage of missing values for each column\n",
    "percent_missing = (missing_values / len(df)) * 100\n",
    "\n",
    "# concatenate the missing values and percentage Series into a single DataFrame\n",
    "missing_df = pd.concat([missing_values, percent_missing], axis=1)\n",
    "\n",
    "# set the column names\n",
    "missing_df = missing_df.rename(columns={0: 'Missing Values', 1: '% of Total Values'})\n",
    "\n",
    "# print the results\n",
    "print(missing_df)"
   ]
  },
  {
   "cell_type": "markdown",
   "id": "d5fc6e57-33d4-4181-926c-4e2e41a37781",
   "metadata": {},
   "source": [
    "### 6. Summary Statistics\n",
    "The describe() method computes various summary statistics for numerical variables in the DataFrame, including the count, mean, standard deviation, minimum, 25th percentile, median (50th percentile), 75th percentile, and maximum. By default, the method only computes summary statistics for numerical variables, but you can include categorical variables as well by specifying the include parameter."
   ]
  },
  {
   "cell_type": "code",
   "execution_count": 27,
   "id": "c3d09233-9ee5-4d2f-980d-4a076f5244eb",
   "metadata": {},
   "outputs": [
    {
     "data": {
      "text/html": [
       "<div>\n",
       "<style scoped>\n",
       "    .dataframe tbody tr th:only-of-type {\n",
       "        vertical-align: middle;\n",
       "    }\n",
       "\n",
       "    .dataframe tbody tr th {\n",
       "        vertical-align: top;\n",
       "    }\n",
       "\n",
       "    .dataframe thead th {\n",
       "        text-align: right;\n",
       "    }\n",
       "</style>\n",
       "<table border=\"1\" class=\"dataframe\">\n",
       "  <thead>\n",
       "    <tr style=\"text-align: right;\">\n",
       "      <th></th>\n",
       "      <th>reviewId</th>\n",
       "    </tr>\n",
       "  </thead>\n",
       "  <tbody>\n",
       "    <tr>\n",
       "      <th>count</th>\n",
       "      <td>1.444963e+06</td>\n",
       "    </tr>\n",
       "    <tr>\n",
       "      <th>mean</th>\n",
       "      <td>9.035203e+06</td>\n",
       "    </tr>\n",
       "    <tr>\n",
       "      <th>std</th>\n",
       "      <td>2.575716e+07</td>\n",
       "    </tr>\n",
       "    <tr>\n",
       "      <th>min</th>\n",
       "      <td>1.000000e+00</td>\n",
       "    </tr>\n",
       "    <tr>\n",
       "      <th>25%</th>\n",
       "      <td>1.610366e+06</td>\n",
       "    </tr>\n",
       "    <tr>\n",
       "      <th>50%</th>\n",
       "      <td>2.200337e+06</td>\n",
       "    </tr>\n",
       "    <tr>\n",
       "      <th>75%</th>\n",
       "      <td>2.587024e+06</td>\n",
       "    </tr>\n",
       "    <tr>\n",
       "      <th>max</th>\n",
       "      <td>1.027962e+08</td>\n",
       "    </tr>\n",
       "  </tbody>\n",
       "</table>\n",
       "</div>"
      ],
      "text/plain": [
       "           reviewId\n",
       "count  1.444963e+06\n",
       "mean   9.035203e+06\n",
       "std    2.575716e+07\n",
       "min    1.000000e+00\n",
       "25%    1.610366e+06\n",
       "50%    2.200337e+06\n",
       "75%    2.587024e+06\n",
       "max    1.027962e+08"
      ]
     },
     "execution_count": 27,
     "metadata": {},
     "output_type": "execute_result"
    }
   ],
   "source": [
    "df.describe()"
   ]
  },
  {
   "cell_type": "markdown",
   "id": "7bb3df85-1e78-492f-8d66-a21421c71391",
   "metadata": {},
   "source": [
    "## 7. Explore the distribution\n",
    "By looking at these plots, you can get a better sense of the distribution of each variable, including its central tendency, spread, skewness, and any outliers."
   ]
  },
  {
   "cell_type": "code",
   "execution_count": 29,
   "id": "d9f3357c-c75a-4a60-9ae4-cf928b8b2085",
   "metadata": {},
   "outputs": [
    {
     "data": {
      "image/png": "[encoded data removed]",
      "text/plain": [
       "<Figure size 1000x800 with 1 Axes>"
      ]
     },
     "metadata": {},
     "output_type": "display_data"
    },
    {
     "data": {
      "image/png": "[encoded data removed]",
      "text/plain": [
       "<Figure size 640x480 with 1 Axes>"
      ]
     },
     "metadata": {},
     "output_type": "display_data"
    },
    {
     "data": {
      "image/png": "[encoded data removed]",
      "text/plain": [
       "<Figure size 1000x800 with 9 Axes>"
      ]
     },
     "metadata": {},
     "output_type": "display_data"
    }
   ],
   "source": [
    "# plot histograms for all numerical variables\n",
    "df.hist(figsize=(10, 8))\n",
    "plt.show()\n",
    "\n",
    "# plot boxplots for all numerical variables\n",
    "sns.boxplot(data=df, orient='h', palette='Set2')\n",
    "plt.show()\n",
    "\n",
    "# plot density plots for all numerical variables\n",
    "df.plot(kind='density', subplots=True, layout=(3, 3), sharex=False, figsize=(10, 8))\n",
    "plt.show()"
   ]
  },
  {
   "cell_type": "markdown",
   "id": "da30024b-3658-49b3-947a-94c338808269",
   "metadata": {},
   "source": [
    "## 8. Check for outliers and decide how to handle them (i.e., remove or keep)"
   ]
  },
  {
   "cell_type": "code",
   "execution_count": null,
   "id": "09dbe38d-dfdc-442a-bdb9-1427280ef8a7",
   "metadata": {},
   "outputs": [],
   "source": [
    "# create scatter plots for all pairs of numerical variables\n",
    "fig, ax = plt.subplots(nrows=len(df.columns), ncols=len(df.columns), figsize=(12,12))\n",
    "\n",
    "plt.tight_layout()\n",
    "plt.show()\n"
   ]
  },
  {
   "cell_type": "markdown",
   "id": "88596e7b-b954-4022-b5af-3ebbc275b064",
   "metadata": {},
   "source": [
    "## 9. Examine the correlations between variables (e.g., correlation matrix, scatter plot matrix)"
   ]
  },
  {
   "cell_type": "code",
   "execution_count": null,
   "id": "57bc4dea-00dd-4e48-ba3c-85a5ccec1699",
   "metadata": {},
   "outputs": [],
   "source": []
  },
  {
   "cell_type": "markdown",
   "id": "6eff328f-d1a7-4874-aafe-5af928e79de0",
   "metadata": {},
   "source": [
    "## 10. Check for duplicate rows and decide how to handle them (i.e., remove or keep)"
   ]
  },
  {
   "cell_type": "code",
   "execution_count": 41,
   "id": "bec8e986-5ef3-45f2-89ad-bcc391c61a5a",
   "metadata": {},
   "outputs": [
    {
     "data": {
      "text/plain": [
       "0          False\n",
       "1          False\n",
       "2          False\n",
       "3          False\n",
       "4          False\n",
       "           ...  \n",
       "1444958    False\n",
       "1444959    False\n",
       "1444960    False\n",
       "1444961    False\n",
       "1444962    False\n",
       "Length: 1444963, dtype: bool"
      ]
     },
     "execution_count": 41,
     "metadata": {},
     "output_type": "execute_result"
    }
   ],
   "source": [
    "df.duplicated()"
   ]
  },
  {
   "cell_type": "code",
   "execution_count": 42,
   "id": "31f44643-d806-44ea-aa2c-71e39d5dfb29",
   "metadata": {
    "scrolled": true,
    "tags": []
   },
   "outputs": [
    {
     "name": "stdout",
     "output_type": "stream",
     "text": [
      "                                        id   reviewId creationDate  \\\n",
      "0                                  beavers    1145982   2003-05-23   \n",
      "1                               blood_mask    1636744   2007-06-02   \n",
      "2        city_hunter_shinjuku_private_eyes    2590987   2019-05-28   \n",
      "3        city_hunter_shinjuku_private_eyes    2558908   2019-02-14   \n",
      "4                       dangerous_men_2015    2504681   2018-08-29   \n",
      "...                                    ...        ...          ...   \n",
      "1444958              thor_love_and_thunder  102706151   2022-07-05   \n",
      "1444959              thor_love_and_thunder  102706150   2022-07-05   \n",
      "1444960              thor_love_and_thunder  102706149   2022-07-05   \n",
      "1444961              thor_love_and_thunder  102706148   2022-07-05   \n",
      "1444962              thor_love_and_thunder  102706147   2022-07-05   \n",
      "\n",
      "              criticName  isTopCritic originalScore reviewState  \\\n",
      "0        Ivan M. Lincoln        False         3.5/4       fresh   \n",
      "1          The Foywonder        False           1/5      rotten   \n",
      "2           Reuben Baron        False           NaN       fresh   \n",
      "3            Matt Schley        False         2.5/5      rotten   \n",
      "4              Pat Padua        False           NaN       fresh   \n",
      "...                  ...          ...           ...         ...   \n",
      "1444958  Christie Cronan        False          7/10       fresh   \n",
      "1444959     Ian Sandwell        False           4/5       fresh   \n",
      "1444960   Lauren LaMagna        False          8/10       fresh   \n",
      "1444961        Jake Cole         True           1/4      rotten   \n",
      "1444962      Roger Moore        False         2.5/4       fresh   \n",
      "\n",
      "                        publicatioName  \\\n",
      "0        Deseret News (Salt Lake City)   \n",
      "1                        Dread Central   \n",
      "2                                  CBR   \n",
      "3                          Japan Times   \n",
      "4                                DCist   \n",
      "...                                ...   \n",
      "1444958               Raising Whasians   \n",
      "1444959                    Digital Spy   \n",
      "1444960              Next Best Picture   \n",
      "1444961                 Slant Magazine   \n",
      "1444962                   Movie Nation   \n",
      "\n",
      "                                                reviewText scoreSentiment  \\\n",
      "0        Timed to be just long enough for most youngste...       POSITIVE   \n",
      "1        It doesn't matter if a movie costs 300 million...       NEGATIVE   \n",
      "2        The choreography is so precise and lifelike at...       POSITIVE   \n",
      "3        The film's out-of-touch attempts at humor may ...       NEGATIVE   \n",
      "4        Its clumsy determination is endearing and some...       POSITIVE   \n",
      "...                                                    ...            ...   \n",
      "1444958  Solid but not totally sold&#44; Thor&#58; Ragn...       POSITIVE   \n",
      "1444959  Thor&#58; Love and Thunder is the most enterta...       POSITIVE   \n",
      "1444960  &quot;Thor&#58; Love and Thunder&quot; is a st...       POSITIVE   \n",
      "1444961  Across Taika Waititi&#8217;s film&#44; a war a...       NEGATIVE   \n",
      "1444962  It&#8217;s the jokes that make it&#44; with th...       POSITIVE   \n",
      "\n",
      "                                                 reviewUrl  \n",
      "0        http://www.deseretnews.com/article/700003233/B...  \n",
      "1        http://www.dreadcentral.com/index.php?name=Rev...  \n",
      "2        https://www.cbr.com/city-hunter-shinjuku-priva...  \n",
      "3        https://www.japantimes.co.jp/culture/2019/02/0...  \n",
      "4        http://dcist.com/2015/11/out_of_frame_dangerou...  \n",
      "...                                                    ...  \n",
      "1444958  https://raisingwhasians.com/thor-love-and-thun...  \n",
      "1444959  https://www.digitalspy.com/movies/a40496050/th...  \n",
      "1444960  https://www.nextbestpicture.com/thor-love-and-...  \n",
      "1444961  https://www.slantmagazine.com/film/thor-love-a...  \n",
      "1444962  https://rogersmovienation.com/2022/07/05/movie...  \n",
      "\n",
      "[1444963 rows x 11 columns]\n",
      "                                        id   reviewId creationDate  \\\n",
      "0                                  beavers    1145982   2003-05-23   \n",
      "1                               blood_mask    1636744   2007-06-02   \n",
      "2        city_hunter_shinjuku_private_eyes    2590987   2019-05-28   \n",
      "3        city_hunter_shinjuku_private_eyes    2558908   2019-02-14   \n",
      "4                       dangerous_men_2015    2504681   2018-08-29   \n",
      "...                                    ...        ...          ...   \n",
      "1444958              thor_love_and_thunder  102706151   2022-07-05   \n",
      "1444959              thor_love_and_thunder  102706150   2022-07-05   \n",
      "1444960              thor_love_and_thunder  102706149   2022-07-05   \n",
      "1444961              thor_love_and_thunder  102706148   2022-07-05   \n",
      "1444962              thor_love_and_thunder  102706147   2022-07-05   \n",
      "\n",
      "              criticName  isTopCritic originalScore reviewState  \\\n",
      "0        Ivan M. Lincoln        False         3.5/4       fresh   \n",
      "1          The Foywonder        False           1/5      rotten   \n",
      "2           Reuben Baron        False           NaN       fresh   \n",
      "3            Matt Schley        False         2.5/5      rotten   \n",
      "4              Pat Padua        False           NaN       fresh   \n",
      "...                  ...          ...           ...         ...   \n",
      "1444958  Christie Cronan        False          7/10       fresh   \n",
      "1444959     Ian Sandwell        False           4/5       fresh   \n",
      "1444960   Lauren LaMagna        False          8/10       fresh   \n",
      "1444961        Jake Cole         True           1/4      rotten   \n",
      "1444962      Roger Moore        False         2.5/4       fresh   \n",
      "\n",
      "                        publicatioName  \\\n",
      "0        Deseret News (Salt Lake City)   \n",
      "1                        Dread Central   \n",
      "2                                  CBR   \n",
      "3                          Japan Times   \n",
      "4                                DCist   \n",
      "...                                ...   \n",
      "1444958               Raising Whasians   \n",
      "1444959                    Digital Spy   \n",
      "1444960              Next Best Picture   \n",
      "1444961                 Slant Magazine   \n",
      "1444962                   Movie Nation   \n",
      "\n",
      "                                                reviewText scoreSentiment  \\\n",
      "0        Timed to be just long enough for most youngste...       POSITIVE   \n",
      "1        It doesn't matter if a movie costs 300 million...       NEGATIVE   \n",
      "2        The choreography is so precise and lifelike at...       POSITIVE   \n",
      "3        The film's out-of-touch attempts at humor may ...       NEGATIVE   \n",
      "4        Its clumsy determination is endearing and some...       POSITIVE   \n",
      "...                                                    ...            ...   \n",
      "1444958  Solid but not totally sold&#44; Thor&#58; Ragn...       POSITIVE   \n",
      "1444959  Thor&#58; Love and Thunder is the most enterta...       POSITIVE   \n",
      "1444960  &quot;Thor&#58; Love and Thunder&quot; is a st...       POSITIVE   \n",
      "1444961  Across Taika Waititi&#8217;s film&#44; a war a...       NEGATIVE   \n",
      "1444962  It&#8217;s the jokes that make it&#44; with th...       POSITIVE   \n",
      "\n",
      "                                                 reviewUrl  \n",
      "0        http://www.deseretnews.com/article/700003233/B...  \n",
      "1        http://www.dreadcentral.com/index.php?name=Rev...  \n",
      "2        https://www.cbr.com/city-hunter-shinjuku-priva...  \n",
      "3        https://www.japantimes.co.jp/culture/2019/02/0...  \n",
      "4        http://dcist.com/2015/11/out_of_frame_dangerou...  \n",
      "...                                                    ...  \n",
      "1444958  https://raisingwhasians.com/thor-love-and-thun...  \n",
      "1444959  https://www.digitalspy.com/movies/a40496050/th...  \n",
      "1444960  https://www.nextbestpicture.com/thor-love-and-...  \n",
      "1444961  https://www.slantmagazine.com/film/thor-love-a...  \n",
      "1444962  https://rogersmovienation.com/2022/07/05/movie...  \n",
      "\n",
      "[1432569 rows x 11 columns]\n"
     ]
    }
   ],
   "source": [
    "# print the original DataFrame\n",
    "print(df)\n",
    "\n",
    "# remove duplicate rows in-place\n",
    "df.drop_duplicates(inplace=True)\n",
    "\n",
    "# print the modified DataFrame (with duplicate rows removed)\n",
    "print(df)"
   ]
  },
  {
   "cell_type": "markdown",
   "id": "e8d55f7a-6875-4e5f-8ad2-94a1cc151c64",
   "metadata": {},
   "source": [
    "## 11. Explore relationships between variables (e.g., scatter plots, line plots, heatmaps)"
   ]
  },
  {
   "cell_type": "markdown",
   "id": "a20f5126-d087-4ede-a7c5-cce7fa753391",
   "metadata": {},
   "source": [
    "## 12. Create new variables that may be useful for analysis (e.g., feature engineering)"
   ]
  },
  {
   "cell_type": "markdown",
   "id": "a12e5c72-c42f-4f54-9b18-aaacc3ffc7b6",
   "metadata": {},
   "source": [
    "## 13. Check for data imbalances in categorical variables (e.g., frequency table, bar plot)"
   ]
  },
  {
   "cell_type": "markdown",
   "id": "d19b77ad-e458-4d77-9e07-5cb36b878b4f",
   "metadata": {},
   "source": [
    "## 14. Identify any data quality issues that need to be addressed (e.g., incorrect values, inconsistent formatting)"
   ]
  },
  {
   "cell_type": "markdown",
   "id": "f998a4df-803f-4a23-b6da-75b224ae3ba6",
   "metadata": {},
   "source": [
    "## 15. Document your findings and insights in a clear and organized way."
   ]
  },
  {
   "cell_type": "code",
   "execution_count": null,
   "id": "6b121789-6b6e-4689-ab60-4037dc0d8023",
   "metadata": {},
   "outputs": [],
   "source": []
  }
 ],
 "metadata": {
  "kernelspec": {
   "display_name": "Python 3 (ipykernel)",
   "language": "python",
   "name": "python3"
  },
  "language_info": {
   "codemirror_mode": {
    "name": "ipython",
    "version": 3
   },
   "file_extension": ".py",
   "mimetype": "text/x-python",
   "name": "python",
   "nbconvert_exporter": "python",
   "pygments_lexer": "ipython3",
   "version": "3.9.13"
  }
 },
 "nbformat": 4,
 "nbformat_minor": 5
}
